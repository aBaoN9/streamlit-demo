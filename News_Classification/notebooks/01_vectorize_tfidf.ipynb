{
 "cells": [
  {
   "cell_type": "markdown",
   "id": "20317016",
   "metadata": {},
   "source": [
    "Mục đích\n",
    "\n",
    "Thử vài cấu hình TF-IDF (n-grams, min_df, sublinear_tf, stopwords).\n",
    "\n",
    "Chọn cấu hình tốt (dùng 1 mô hình nhẹ làm “proxy” để so nhanh).\n",
    "\n",
    "Fit lại TF-IDF trên toàn bộ dữ liệu và lưu."
   ]
  },
  {
   "cell_type": "code",
   "execution_count": 1,
   "id": "38c5344a",
   "metadata": {},
   "outputs": [],
   "source": [
    "import pandas as pd\n",
    "import numpy as np\n",
    "import joblib\n",
    "from pathlib import Path\n",
    "\n",
    "from sklearn.model_selection import StratifiedKFold, cross_val_score\n",
    "from sklearn.feature_extraction.text import TfidfVectorizer\n",
    "from sklearn.pipeline import make_pipeline\n",
    "from sklearn.linear_model import LogisticRegression  # proxy nhanh\n",
    "# (chỉ dùng để CHỌN vectorizer; model KNN nằm ở notebook 02)\n",
    "\n",
    "ARTIF_DIR = Path(\"../app/artifacts\")\n",
    "ARTIF_DIR.mkdir(parents=True, exist_ok=True)\n"
   ]
  },
  {
   "cell_type": "code",
   "execution_count": 2,
   "id": "19baa111",
   "metadata": {},
   "outputs": [
    {
     "name": "stdout",
     "output_type": "stream",
     "text": [
      "(2225, 2) Label\n",
      "1    511\n",
      "4    510\n",
      "0    417\n",
      "2    401\n",
      "3    386\n",
      "Name: count, dtype: int64\n"
     ]
    }
   ],
   "source": [
    "df = pd.read_csv(\"../data/df_file.csv\")\n",
    "X, y = df[\"Text\"].values, df[\"Label\"].values\n",
    "print(df.shape, df[\"Label\"].value_counts())\n"
   ]
  },
  {
   "cell_type": "code",
   "execution_count": 3,
   "id": "57821402",
   "metadata": {},
   "outputs": [],
   "source": [
    "# Nếu muốn bỏ xuống dòng/dấu control:\n",
    "X_clean = [str(t).replace(\"\\n\", \" \").strip() for t in X]\n"
   ]
  },
  {
   "cell_type": "code",
   "execution_count": 4,
   "id": "9053c8fa",
   "metadata": {},
   "outputs": [
    {
     "name": "stdout",
     "output_type": "stream",
     "text": [
      "Testing 4 TF-IDF configs...\n"
     ]
    }
   ],
   "source": [
    "candidates = [\n",
    "    dict(ngram_range=(1,1), min_df=2, max_df=0.9, sublinear_tf=True, stop_words=\"english\"),\n",
    "    dict(ngram_range=(1,2), min_df=2, max_df=0.9, sublinear_tf=True, stop_words=\"english\"),\n",
    "    dict(ngram_range=(1,2), min_df=3, max_df=0.95, sublinear_tf=True, stop_words=\"english\"),\n",
    "    dict(ngram_range=(1,2), min_df=2, max_df=0.9, sublinear_tf=False, stop_words=\"english\"),\n",
    "]\n",
    "print(f\"Testing {len(candidates)} TF-IDF configs...\")\n"
   ]
  },
  {
   "cell_type": "code",
   "execution_count": 5,
   "id": "8b4aafa5",
   "metadata": {},
   "outputs": [
    {
     "name": "stdout",
     "output_type": "stream",
     "text": [
      "[1] {'ngram_range': (1, 1), 'min_df': 2, 'max_df': 0.9, 'sublinear_tf': True, 'stop_words': 'english'} -> F1=0.9801±0.007 | ACC=0.9802±0.007\n",
      "[2] {'ngram_range': (1, 2), 'min_df': 2, 'max_df': 0.9, 'sublinear_tf': True, 'stop_words': 'english'} -> F1=0.9805±0.007 | ACC=0.9807±0.007\n",
      "[3] {'ngram_range': (1, 2), 'min_df': 3, 'max_df': 0.95, 'sublinear_tf': True, 'stop_words': 'english'} -> F1=0.9800±0.008 | ACC=0.9802±0.008\n",
      "[4] {'ngram_range': (1, 2), 'min_df': 2, 'max_df': 0.9, 'sublinear_tf': False, 'stop_words': 'english'} -> F1=0.9797±0.004 | ACC=0.9798±0.004\n"
     ]
    },
    {
     "data": {
      "text/html": [
       "<div>\n",
       "<style scoped>\n",
       "    .dataframe tbody tr th:only-of-type {\n",
       "        vertical-align: middle;\n",
       "    }\n",
       "\n",
       "    .dataframe tbody tr th {\n",
       "        vertical-align: top;\n",
       "    }\n",
       "\n",
       "    .dataframe thead th {\n",
       "        text-align: right;\n",
       "    }\n",
       "</style>\n",
       "<table border=\"1\" class=\"dataframe\">\n",
       "  <thead>\n",
       "    <tr style=\"text-align: right;\">\n",
       "      <th></th>\n",
       "      <th>idx</th>\n",
       "      <th>cfg</th>\n",
       "      <th>F1_macro_mean</th>\n",
       "      <th>F1_macro_std</th>\n",
       "      <th>ACC_mean</th>\n",
       "      <th>ACC_std</th>\n",
       "    </tr>\n",
       "  </thead>\n",
       "  <tbody>\n",
       "    <tr>\n",
       "      <th>1</th>\n",
       "      <td>2</td>\n",
       "      <td>{'ngram_range': (1, 2), 'min_df': 2, 'max_df':...</td>\n",
       "      <td>0.980493</td>\n",
       "      <td>0.006924</td>\n",
       "      <td>0.980674</td>\n",
       "      <td>0.007330</td>\n",
       "    </tr>\n",
       "    <tr>\n",
       "      <th>0</th>\n",
       "      <td>1</td>\n",
       "      <td>{'ngram_range': (1, 1), 'min_df': 2, 'max_df':...</td>\n",
       "      <td>0.980106</td>\n",
       "      <td>0.006848</td>\n",
       "      <td>0.980225</td>\n",
       "      <td>0.007303</td>\n",
       "    </tr>\n",
       "    <tr>\n",
       "      <th>2</th>\n",
       "      <td>3</td>\n",
       "      <td>{'ngram_range': (1, 2), 'min_df': 3, 'max_df':...</td>\n",
       "      <td>0.980023</td>\n",
       "      <td>0.007982</td>\n",
       "      <td>0.980225</td>\n",
       "      <td>0.008336</td>\n",
       "    </tr>\n",
       "    <tr>\n",
       "      <th>3</th>\n",
       "      <td>4</td>\n",
       "      <td>{'ngram_range': (1, 2), 'min_df': 2, 'max_df':...</td>\n",
       "      <td>0.979685</td>\n",
       "      <td>0.003883</td>\n",
       "      <td>0.979775</td>\n",
       "      <td>0.004264</td>\n",
       "    </tr>\n",
       "  </tbody>\n",
       "</table>\n",
       "</div>"
      ],
      "text/plain": [
       "   idx                                                cfg  F1_macro_mean  \\\n",
       "1    2  {'ngram_range': (1, 2), 'min_df': 2, 'max_df':...       0.980493   \n",
       "0    1  {'ngram_range': (1, 1), 'min_df': 2, 'max_df':...       0.980106   \n",
       "2    3  {'ngram_range': (1, 2), 'min_df': 3, 'max_df':...       0.980023   \n",
       "3    4  {'ngram_range': (1, 2), 'min_df': 2, 'max_df':...       0.979685   \n",
       "\n",
       "   F1_macro_std  ACC_mean   ACC_std  \n",
       "1      0.006924  0.980674  0.007330  \n",
       "0      0.006848  0.980225  0.007303  \n",
       "2      0.007982  0.980225  0.008336  \n",
       "3      0.003883  0.979775  0.004264  "
      ]
     },
     "execution_count": 5,
     "metadata": {},
     "output_type": "execute_result"
    }
   ],
   "source": [
    "skf = StratifiedKFold(n_splits=5, shuffle=True, random_state=42)\n",
    "results = []\n",
    "\n",
    "for i, cfg in enumerate(candidates, 1):\n",
    "    tfidf = TfidfVectorizer(**cfg)\n",
    "    proxy_clf = LogisticRegression(max_iter=200, n_jobs=None)  # liblinear/saga auto\n",
    "    pipe = make_pipeline(tfidf, proxy_clf)\n",
    "\n",
    "    f1 = cross_val_score(pipe, X_clean, y, cv=skf, scoring=\"f1_macro\", n_jobs=-1)\n",
    "    acc = cross_val_score(pipe, X_clean, y, cv=skf, scoring=\"accuracy\", n_jobs=-1)\n",
    "\n",
    "    results.append({\n",
    "        \"idx\": i,\n",
    "        \"cfg\": cfg,\n",
    "        \"F1_macro_mean\": f1.mean(), \"F1_macro_std\": f1.std(),\n",
    "        \"ACC_mean\": acc.mean(), \"ACC_std\": acc.std()\n",
    "    })\n",
    "    print(f\"[{i}] {cfg} -> F1={f1.mean():.4f}±{f1.std():.3f} | ACC={acc.mean():.4f}±{acc.std():.3f}\")\n",
    "\n",
    "res_df = pd.DataFrame(results).sort_values([\"F1_macro_mean\",\"ACC_mean\"], ascending=False)\n",
    "res_df\n"
   ]
  },
  {
   "cell_type": "code",
   "execution_count": 6,
   "id": "d3288279",
   "metadata": {},
   "outputs": [
    {
     "data": {
      "text/plain": [
       "{'ngram_range': (1, 2),\n",
       " 'min_df': 2,\n",
       " 'max_df': 0.9,\n",
       " 'sublinear_tf': True,\n",
       " 'stop_words': 'english'}"
      ]
     },
     "execution_count": 6,
     "metadata": {},
     "output_type": "execute_result"
    }
   ],
   "source": [
    "best_cfg = res_df.iloc[0][\"cfg\"]\n",
    "best_cfg\n"
   ]
  },
  {
   "cell_type": "code",
   "execution_count": 7,
   "id": "d5306691",
   "metadata": {},
   "outputs": [
    {
     "name": "stdout",
     "output_type": "stream",
     "text": [
      "Vocab size: 77505\n",
      "Saved -> ..\\app\\artifacts\\tfidf.pkl\n"
     ]
    }
   ],
   "source": [
    "best_tfidf = TfidfVectorizer(**best_cfg).fit(X_clean)\n",
    "print(\"Vocab size:\", len(best_tfidf.vocabulary_))\n",
    "joblib.dump(best_tfidf, ARTIF_DIR / \"tfidf.pkl\")\n",
    "print(\"Saved ->\", ARTIF_DIR / \"tfidf.pkl\")\n"
   ]
  },
  {
   "cell_type": "code",
   "execution_count": 8,
   "id": "aee2e4b9",
   "metadata": {},
   "outputs": [
    {
     "name": "stdout",
     "output_type": "stream",
     "text": [
      "Saved top/bottom IDF term lists.\n"
     ]
    }
   ],
   "source": [
    "# Lấy df (document frequency) gần đúng qua inverse idf: idf = log((n+1)/(df+1)) + 1\n",
    "idf = best_tfidf.idf_\n",
    "terms = np.array(best_tfidf.get_feature_names_out())\n",
    "report = pd.DataFrame({\n",
    "    \"term\": terms,\n",
    "    \"idf\": idf\n",
    "}).sort_values(\"idf\", ascending=False)\n",
    "\n",
    "# Lưu 100 terms \"đặc trưng\" nhất (idf cao) để kiểm tra nhanh\n",
    "report.head(100).to_csv(ARTIF_DIR / \"tfidf_top_idf_terms.csv\", index=False)\n",
    "report.tail(100).to_csv(ARTIF_DIR / \"tfidf_common_terms.csv\", index=False)\n",
    "print(\"Saved top/bottom IDF term lists.\")\n"
   ]
  },
  {
   "cell_type": "code",
   "execution_count": 9,
   "id": "a719dfae",
   "metadata": {},
   "outputs": [
    {
     "name": "stdout",
     "output_type": "stream",
     "text": [
      "\n",
      "Doc 0 top tf-idf terms:\n",
      "  stamp duty                 0.174\n",
      "  stamp                      0.163\n",
      "  duty threshold             0.154\n",
      "  threshold                  0.140\n",
      "  duty                       0.136\n",
      "  60 000                     0.114\n",
      "  freeze petrol              0.110\n",
      "  raise stamp                0.110\n",
      "  means testing              0.105\n",
      "  petrol duty                0.105\n",
      "\n",
      "Doc 1 top tf-idf terms:\n",
      "  regiments                  0.270\n",
      "  regiment                   0.216\n",
      "  army                       0.178\n",
      "  battalion                  0.131\n",
      "  black watch                0.131\n",
      "  royal scots                0.131\n",
      "  scottish regiments         0.131\n",
      "  super                      0.128\n",
      "  scottish                   0.122\n",
      "  campaigners                0.117\n",
      "\n",
      "Doc 2 top tf-idf terms:\n",
      "  id cards                   0.126\n",
      "  id                         0.124\n",
      "  cards                      0.106\n",
      "  shadow cabinet             0.099\n",
      "  howard denied              0.087\n",
      "  yeo                        0.084\n",
      "  howard                     0.073\n",
      "  shadow                     0.072\n",
      "  mr howard                  0.068\n",
      "  police said                0.068\n"
     ]
    }
   ],
   "source": [
    "X_vec = best_tfidf.transform(X_clean[:3])\n",
    "for i in range(X_vec.shape[0]):\n",
    "    row = X_vec.getrow(i)\n",
    "    coo = list(zip(row.indices, row.data))\n",
    "    top = sorted(coo, key=lambda x: x[1], reverse=True)[:10]\n",
    "    words = [(terms[j], float(w)) for j, w in top]\n",
    "    print(f\"\\nDoc {i} top tf-idf terms:\")\n",
    "    for w, s in words:\n",
    "        print(f\"  {w:25s}  {s:.3f}\")\n"
   ]
  },
  {
   "cell_type": "code",
   "execution_count": null,
   "id": "e9cf2494",
   "metadata": {},
   "outputs": [],
   "source": []
  }
 ],
 "metadata": {
  "kernelspec": {
   "display_name": "Python 3",
   "language": "python",
   "name": "python3"
  },
  "language_info": {
   "codemirror_mode": {
    "name": "ipython",
    "version": 3
   },
   "file_extension": ".py",
   "mimetype": "text/x-python",
   "name": "python",
   "nbconvert_exporter": "python",
   "pygments_lexer": "ipython3",
   "version": "3.12.6"
  }
 },
 "nbformat": 4,
 "nbformat_minor": 5
}
