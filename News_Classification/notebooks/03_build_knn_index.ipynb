{
 "cells": [
  {
   "cell_type": "code",
   "execution_count": 1,
   "id": "2b946842",
   "metadata": {},
   "outputs": [],
   "source": [
    "import pandas as pd\n",
    "import joblib\n",
    "from pathlib import Path\n",
    "from sklearn.neighbors import NearestNeighbors\n",
    "\n",
    "ARTIF_DIR = Path(\"../app/artifacts\")\n",
    "ARTIF_DIR.mkdir(parents=True, exist_ok=True)\n"
   ]
  },
  {
   "cell_type": "code",
   "execution_count": 2,
   "id": "1bd342ce",
   "metadata": {},
   "outputs": [
    {
     "name": "stdout",
     "output_type": "stream",
     "text": [
      "Matrix shape: (2225, 77505)\n"
     ]
    }
   ],
   "source": [
    "df = pd.read_csv(\"../data/df_file.csv\")\n",
    "X_raw = df[\"Text\"].astype(str).tolist()\n",
    "X = [t.replace(\"\\n\", \" \").strip() for t in X_raw]\n",
    "\n",
    "tfidf = joblib.load(ARTIF_DIR / \"tfidf.pkl\")\n",
    "X_vec = tfidf.transform(X)\n",
    "print(\"Matrix shape:\", X_vec.shape)\n"
   ]
  },
  {
   "cell_type": "code",
   "execution_count": 3,
   "id": "6487a3b8",
   "metadata": {},
   "outputs": [
    {
     "name": "stdout",
     "output_type": "stream",
     "text": [
      "Saved -> ..\\app\\artifacts\\knn_index.pkl\n"
     ]
    }
   ],
   "source": [
    "index = NearestNeighbors(n_neighbors=10, metric=\"cosine\").fit(X_vec)\n",
    "joblib.dump(index, ARTIF_DIR / \"knn_index.pkl\")\n",
    "print(\"Saved ->\", ARTIF_DIR / \"knn_index.pkl\")\n"
   ]
  },
  {
   "cell_type": "code",
   "execution_count": 4,
   "id": "c27f2fe0",
   "metadata": {},
   "outputs": [
    {
     "data": {
      "text/html": [
       "<div>\n",
       "<style scoped>\n",
       "    .dataframe tbody tr th:only-of-type {\n",
       "        vertical-align: middle;\n",
       "    }\n",
       "\n",
       "    .dataframe tbody tr th {\n",
       "        vertical-align: top;\n",
       "    }\n",
       "\n",
       "    .dataframe thead th {\n",
       "        text-align: right;\n",
       "    }\n",
       "</style>\n",
       "<table border=\"1\" class=\"dataframe\">\n",
       "  <thead>\n",
       "    <tr style=\"text-align: right;\">\n",
       "      <th></th>\n",
       "      <th>similarity</th>\n",
       "      <th>label</th>\n",
       "      <th>text_snippet</th>\n",
       "    </tr>\n",
       "  </thead>\n",
       "  <tbody>\n",
       "    <tr>\n",
       "      <th>0</th>\n",
       "      <td>0.250700</td>\n",
       "      <td>0</td>\n",
       "      <td>Lib Dems predict 'best ever poll'\\n \\n The Lib...</td>\n",
       "    </tr>\n",
       "    <tr>\n",
       "      <th>1</th>\n",
       "      <td>0.100645</td>\n",
       "      <td>0</td>\n",
       "      <td>Kennedy looks to election gains\\n \\n They may ...</td>\n",
       "    </tr>\n",
       "    <tr>\n",
       "      <th>2</th>\n",
       "      <td>0.084663</td>\n",
       "      <td>0</td>\n",
       "      <td>Brown names 16 March for Budget\\n \\n Chancello...</td>\n",
       "    </tr>\n",
       "    <tr>\n",
       "      <th>3</th>\n",
       "      <td>0.084194</td>\n",
       "      <td>0</td>\n",
       "      <td>Brown names 16 March for Budget\\n \\n Chancello...</td>\n",
       "    </tr>\n",
       "    <tr>\n",
       "      <th>4</th>\n",
       "      <td>0.082189</td>\n",
       "      <td>0</td>\n",
       "      <td>Blair prepares to name poll date\\n \\n Tony Bla...</td>\n",
       "    </tr>\n",
       "  </tbody>\n",
       "</table>\n",
       "</div>"
      ],
      "text/plain": [
       "   similarity  label                                       text_snippet\n",
       "0    0.250700      0  Lib Dems predict 'best ever poll'\\n \\n The Lib...\n",
       "1    0.100645      0  Kennedy looks to election gains\\n \\n They may ...\n",
       "2    0.084663      0  Brown names 16 March for Budget\\n \\n Chancello...\n",
       "3    0.084194      0  Brown names 16 March for Budget\\n \\n Chancello...\n",
       "4    0.082189      0  Blair prepares to name poll date\\n \\n Tony Bla..."
      ]
     },
     "execution_count": 4,
     "metadata": {},
     "output_type": "execute_result"
    }
   ],
   "source": [
    "query = \"election results and government budget policy\"\n",
    "qv = tfidf.transform([query])\n",
    "dist, idx = index.kneighbors(qv, n_neighbors=5, return_distance=True)\n",
    "sim = 1 - dist[0]\n",
    "\n",
    "results = []\n",
    "for s, i in zip(sim, idx[0]):\n",
    "    results.append({\n",
    "        \"similarity\": float(s),\n",
    "        \"label\": int(df.iloc[i][\"Label\"]),\n",
    "        \"text_snippet\": df.iloc[i][\"Text\"][:180] + (\"...\" if len(df.iloc[i][\"Text\"])>180 else \"\")\n",
    "    })\n",
    "\n",
    "pd.DataFrame(results)\n"
   ]
  },
  {
   "cell_type": "code",
   "execution_count": 5,
   "id": "416c3034",
   "metadata": {},
   "outputs": [
    {
     "name": "stdout",
     "output_type": "stream",
     "text": [
      "Saved sample queries -> vsm_query_samples.json\n"
     ]
    }
   ],
   "source": [
    "queries = [\n",
    "    \"election campaign and voting system\",\n",
    "    \"sports match results and player transfer\",\n",
    "    \"technology companies and product launches\",\n",
    "]\n",
    "all_samples = {}\n",
    "for q in queries:\n",
    "    qv = tfidf.transform([q])\n",
    "    dist, idx = index.kneighbors(qv, n_neighbors=5, return_distance=True)\n",
    "    sim = 1 - dist[0]\n",
    "    all_samples[q] = [\n",
    "        {\"sim\": float(s), \"label\": int(df.iloc[i][\"Label\"]), \"snippet\": df.iloc[i][\"Text\"][:180]}\n",
    "        for s, i in zip(sim, idx[0])\n",
    "    ]\n",
    "\n",
    "import json\n",
    "with open(ARTIF_DIR / \"vsm_query_samples.json\", \"w\", encoding=\"utf-8\") as f:\n",
    "    json.dump(all_samples, f, ensure_ascii=False, indent=2)\n",
    "print(\"Saved sample queries -> vsm_query_samples.json\")\n"
   ]
  },
  {
   "cell_type": "code",
   "execution_count": null,
   "id": "12783c72",
   "metadata": {},
   "outputs": [],
   "source": []
  }
 ],
 "metadata": {
  "kernelspec": {
   "display_name": "Python 3",
   "language": "python",
   "name": "python3"
  },
  "language_info": {
   "codemirror_mode": {
    "name": "ipython",
    "version": 3
   },
   "file_extension": ".py",
   "mimetype": "text/x-python",
   "name": "python",
   "nbconvert_exporter": "python",
   "pygments_lexer": "ipython3",
   "version": "3.12.6"
  }
 },
 "nbformat": 4,
 "nbformat_minor": 5
}
