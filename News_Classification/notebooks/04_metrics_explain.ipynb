{
 "cells": [
  {
   "cell_type": "code",
   "execution_count": 1,
   "id": "bcf4cfe7",
   "metadata": {},
   "outputs": [
    {
     "name": "stdout",
     "output_type": "stream",
     "text": [
      "(2225, 2) Label\n",
      "1    511\n",
      "4    510\n",
      "0    417\n",
      "2    401\n",
      "3    386\n",
      "Name: count, dtype: int64\n"
     ]
    }
   ],
   "source": [
    "import numpy as np\n",
    "import pandas as pd\n",
    "import joblib\n",
    "from pathlib import Path\n",
    "\n",
    "from sklearn.metrics.pairwise import cosine_similarity\n",
    "from sklearn.metrics import accuracy_score, f1_score, confusion_matrix, classification_report\n",
    "\n",
    "import matplotlib.pyplot as plt\n",
    "import seaborn as sns\n",
    "sns.set(style=\"whitegrid\")\n",
    "\n",
    "ARTIF_DIR = Path(\"../app/artifacts\")\n",
    "DATA_DIR = Path(\"../data\")\n",
    "\n",
    "df = pd.read_csv(DATA_DIR / \"df_file.csv\")\n",
    "print(df.shape, df[\"Label\"].value_counts())\n"
   ]
  },
  {
   "cell_type": "code",
   "execution_count": 2,
   "id": "e3a7fa07",
   "metadata": {},
   "outputs": [],
   "source": [
    "tfidf = joblib.load(ARTIF_DIR / \"tfidf.pkl\")        # vectorizer\n",
    "pipe  = joblib.load(ARTIF_DIR / \"knn_clf.pkl\")      # TFIDF + KNN (classifier)\n",
    "index = joblib.load(ARTIF_DIR / \"knn_index.pkl\")    # NearestNeighbors (retrieval)\n",
    "\n",
    "# nhất quán pre-clean nhẹ\n",
    "texts = df[\"Text\"].astype(str).str.replace(\"\\n\", \" \").str.strip().tolist()\n",
    "labels = df[\"Label\"].values\n",
    "Xvec   = tfidf.transform(texts)\n"
   ]
  },
  {
   "cell_type": "code",
   "execution_count": 3,
   "id": "0d18dff4",
   "metadata": {},
   "outputs": [
    {
     "name": "stdout",
     "output_type": "stream",
     "text": [
      "\n",
      "=== Document #414 (label=0) ===\n",
      "David Blunkett in quotes    David Blunkett - who has resigned as home secretary - built his reputation as a plain-speaking Yorkshire man.          I fell in love with someone and they wouldn't go publ...\n",
      "  plain speaking             0.169\n",
      "  blunkett                   0.153\n",
      "  plain                      0.148\n",
      "  david blunkett             0.124\n",
      "  terrorism                  0.113\n",
      "  accept                     0.107\n",
      "  committed                  0.106\n",
      "  celebrity edition          0.104\n",
      "  fell love                  0.104\n",
      "  foolishly                  0.104\n",
      "  got think                  0.104\n",
      "  love wouldn                0.104\n",
      "\n",
      "=== Document #420 (label=1) ===\n",
      "Benitez issues warning to Gerrard    Liverpool manager Rafael Benitez has ordered captain Steven Gerrard not to play down their Champions League ambitions and be more positive.    Gerrard told the BBC...\n",
      "  benitez                    0.262\n",
      "  win trophy                 0.218\n",
      "  gerrard                    0.207\n",
      "  liverpool                  0.172\n",
      "  trophy                     0.158\n",
      "  steven                     0.151\n",
      "  champions league           0.142\n",
      "  benitez added              0.129\n",
      "  better think               0.129\n",
      "  chelsea carling            0.129\n",
      "  cup sunday                 0.129\n",
      "  draw win                   0.129\n",
      "\n",
      "=== Document #1644 (label=3) ===\n",
      "Brookside creator's Channel 4 bid    The creator of defunct TV soap Brookside has written to the culture minister to offer to buy Channel 4.    Phil Redmond, now chairman of Mersey TV, told Tessa Jowe...\n",
      "  brookside                  0.283\n",
      "  channel                    0.193\n",
      "  creator                    0.178\n",
      "  soap                       0.173\n",
      "  culture                    0.138\n",
      "  drama                      0.137\n",
      "  2003 ratings               0.135\n",
      "  grange                     0.135\n",
      "  grange hill                0.135\n",
      "  media watchdog             0.135\n",
      "  privatised                 0.135\n",
      "  station sold               0.135\n"
     ]
    }
   ],
   "source": [
    "terms = np.array(tfidf.get_feature_names_out())\n",
    "\n",
    "def top_tfidf_for_doc(row_csr, topk=10):\n",
    "    coo = list(zip(row_csr.indices, row_csr.data))\n",
    "    coo_sorted = sorted(coo, key=lambda x: x[1], reverse=True)[:topk]\n",
    "    return [(terms[i], float(w)) for i, w in coo_sorted]\n",
    "\n",
    "np.random.seed(42)\n",
    "sample_ids = np.random.choice(len(texts), size=3, replace=False)\n",
    "\n",
    "for sid in sample_ids:\n",
    "    row = Xvec[sid]\n",
    "    top_terms = top_tfidf_for_doc(row, topk=12)\n",
    "    print(f\"\\n=== Document #{sid} (label={labels[sid]}) ===\")\n",
    "    print(texts[sid][:200] + (\"...\" if len(texts[sid])>200 else \"\"))\n",
    "    for w, s in top_terms:\n",
    "        print(f\"  {w:25s}  {s:.3f}\")\n"
   ]
  },
  {
   "cell_type": "code",
   "execution_count": 4,
   "id": "bb63563d",
   "metadata": {},
   "outputs": [
    {
     "data": {
      "text/html": [
       "<div>\n",
       "<style scoped>\n",
       "    .dataframe tbody tr th:only-of-type {\n",
       "        vertical-align: middle;\n",
       "    }\n",
       "\n",
       "    .dataframe tbody tr th {\n",
       "        vertical-align: top;\n",
       "    }\n",
       "\n",
       "    .dataframe thead th {\n",
       "        text-align: right;\n",
       "    }\n",
       "</style>\n",
       "<table border=\"1\" class=\"dataframe\">\n",
       "  <thead>\n",
       "    <tr style=\"text-align: right;\">\n",
       "      <th></th>\n",
       "      <th>similarity</th>\n",
       "      <th>label</th>\n",
       "      <th>snippet</th>\n",
       "    </tr>\n",
       "  </thead>\n",
       "  <tbody>\n",
       "    <tr>\n",
       "      <th>0</th>\n",
       "      <td>0.270981</td>\n",
       "      <td>0</td>\n",
       "      <td>Blunkett tells of love and pain    David Blunk...</td>\n",
       "    </tr>\n",
       "    <tr>\n",
       "      <th>1</th>\n",
       "      <td>0.118381</td>\n",
       "      <td>0</td>\n",
       "      <td>Blair 'damaged' by Blunkett row    A majority ...</td>\n",
       "    </tr>\n",
       "    <tr>\n",
       "      <th>2</th>\n",
       "      <td>0.113448</td>\n",
       "      <td>0</td>\n",
       "      <td>Profile: David Blunkett    Before he resigned ...</td>\n",
       "    </tr>\n",
       "    <tr>\n",
       "      <th>3</th>\n",
       "      <td>0.102625</td>\n",
       "      <td>0</td>\n",
       "      <td>Blair's hope for Blunkett return    The events...</td>\n",
       "    </tr>\n",
       "    <tr>\n",
       "      <th>4</th>\n",
       "      <td>0.092539</td>\n",
       "      <td>0</td>\n",
       "      <td>Blunkett unveils policing plans    People coul...</td>\n",
       "    </tr>\n",
       "  </tbody>\n",
       "</table>\n",
       "</div>"
      ],
      "text/plain": [
       "   similarity  label                                            snippet\n",
       "0    0.270981      0  Blunkett tells of love and pain    David Blunk...\n",
       "1    0.118381      0  Blair 'damaged' by Blunkett row    A majority ...\n",
       "2    0.113448      0  Profile: David Blunkett    Before he resigned ...\n",
       "3    0.102625      0  Blair's hope for Blunkett return    The events...\n",
       "4    0.092539      0  Blunkett unveils policing plans    People coul..."
      ]
     },
     "execution_count": 4,
     "metadata": {},
     "output_type": "execute_result"
    }
   ],
   "source": [
    "# chọn 1 văn bản làm \"query doc\"\n",
    "q_id = int(sample_ids[0])\n",
    "qv = Xvec[q_id]\n",
    "sims = cosine_similarity(qv, Xvec).ravel()  # similarity với toàn corpus\n",
    "\n",
    "# Lấy top-k gần nhất (loại bỏ chính nó)\n",
    "k = 5\n",
    "top_idx = np.argsort(-sims)\n",
    "top_idx = top_idx[top_idx != q_id][:k]\n",
    "pd.DataFrame({\n",
    "    \"similarity\": sims[top_idx],\n",
    "    \"label\": labels[top_idx],\n",
    "    \"snippet\": [texts[i][:180] + (\"...\" if len(texts[i])>180 else \"\") for i in top_idx],\n",
    "})\n"
   ]
  },
  {
   "cell_type": "code",
   "execution_count": 5,
   "id": "d344b1f1",
   "metadata": {},
   "outputs": [
    {
     "name": "stdout",
     "output_type": "stream",
     "text": [
      "Predicted label (majority vote): 0\n"
     ]
    },
    {
     "data": {
      "text/html": [
       "<div>\n",
       "<style scoped>\n",
       "    .dataframe tbody tr th:only-of-type {\n",
       "        vertical-align: middle;\n",
       "    }\n",
       "\n",
       "    .dataframe tbody tr th {\n",
       "        vertical-align: top;\n",
       "    }\n",
       "\n",
       "    .dataframe thead th {\n",
       "        text-align: right;\n",
       "    }\n",
       "</style>\n",
       "<table border=\"1\" class=\"dataframe\">\n",
       "  <thead>\n",
       "    <tr style=\"text-align: right;\">\n",
       "      <th></th>\n",
       "      <th>Similarity</th>\n",
       "      <th>Label</th>\n",
       "      <th>Snippet</th>\n",
       "    </tr>\n",
       "  </thead>\n",
       "  <tbody>\n",
       "    <tr>\n",
       "      <th>0</th>\n",
       "      <td>1.000000</td>\n",
       "      <td>0</td>\n",
       "      <td>David Blunkett in quotes    David Blunkett - w...</td>\n",
       "    </tr>\n",
       "    <tr>\n",
       "      <th>1</th>\n",
       "      <td>0.270981</td>\n",
       "      <td>0</td>\n",
       "      <td>Blunkett tells of love and pain    David Blunk...</td>\n",
       "    </tr>\n",
       "    <tr>\n",
       "      <th>2</th>\n",
       "      <td>0.118381</td>\n",
       "      <td>0</td>\n",
       "      <td>Blair 'damaged' by Blunkett row    A majority ...</td>\n",
       "    </tr>\n",
       "    <tr>\n",
       "      <th>3</th>\n",
       "      <td>0.113448</td>\n",
       "      <td>0</td>\n",
       "      <td>Profile: David Blunkett    Before he resigned ...</td>\n",
       "    </tr>\n",
       "    <tr>\n",
       "      <th>4</th>\n",
       "      <td>0.102625</td>\n",
       "      <td>0</td>\n",
       "      <td>Blair's hope for Blunkett return    The events...</td>\n",
       "    </tr>\n",
       "  </tbody>\n",
       "</table>\n",
       "</div>"
      ],
      "text/plain": [
       "   Similarity  Label                                            Snippet\n",
       "0    1.000000      0  David Blunkett in quotes    David Blunkett - w...\n",
       "1    0.270981      0  Blunkett tells of love and pain    David Blunk...\n",
       "2    0.118381      0  Blair 'damaged' by Blunkett row    A majority ...\n",
       "3    0.113448      0  Profile: David Blunkett    Before he resigned ...\n",
       "4    0.102625      0  Blair's hope for Blunkett return    The events..."
      ]
     },
     "execution_count": 5,
     "metadata": {},
     "output_type": "execute_result"
    }
   ],
   "source": [
    "# tách bước trong pipeline\n",
    "vec = pipe.named_steps[\"tfidfvectorizer\"]\n",
    "knn = pipe.named_steps[\"kneighborsclassifier\"]\n",
    "\n",
    "qv_clf = vec.transform([texts[q_id]])\n",
    "dist, idx = knn.kneighbors(qv_clf, n_neighbors=5, return_distance=True)\n",
    "sim = 1 - dist[0]\n",
    "\n",
    "knn_tbl = pd.DataFrame({\n",
    "    \"Similarity\": sim,\n",
    "    \"Label\": labels[idx[0]],\n",
    "    \"Snippet\": [texts[i][:180] + (\"...\" if len(texts[i])>180 else \"\") for i in idx[0]]\n",
    "})\n",
    "print(\"Predicted label (majority vote):\", int(pipe.predict([texts[q_id]])[0]))\n",
    "knn_tbl\n"
   ]
  },
  {
   "cell_type": "code",
   "execution_count": 6,
   "id": "4a631365",
   "metadata": {},
   "outputs": [
    {
     "data": {
      "text/html": [
       "<div>\n",
       "<style scoped>\n",
       "    .dataframe tbody tr th:only-of-type {\n",
       "        vertical-align: middle;\n",
       "    }\n",
       "\n",
       "    .dataframe tbody tr th {\n",
       "        vertical-align: top;\n",
       "    }\n",
       "\n",
       "    .dataframe thead th {\n",
       "        text-align: right;\n",
       "    }\n",
       "</style>\n",
       "<table border=\"1\" class=\"dataframe\">\n",
       "  <thead>\n",
       "    <tr style=\"text-align: right;\">\n",
       "      <th></th>\n",
       "      <th>Similarity</th>\n",
       "      <th>Label</th>\n",
       "      <th>Snippet</th>\n",
       "    </tr>\n",
       "  </thead>\n",
       "  <tbody>\n",
       "    <tr>\n",
       "      <th>0</th>\n",
       "      <td>0.153981</td>\n",
       "      <td>0</td>\n",
       "      <td>Labour MP praises Tory campaign    The Conserv...</td>\n",
       "    </tr>\n",
       "    <tr>\n",
       "      <th>1</th>\n",
       "      <td>0.149486</td>\n",
       "      <td>0</td>\n",
       "      <td>Howard attacks 'pay later' Budget    Tory lead...</td>\n",
       "    </tr>\n",
       "    <tr>\n",
       "      <th>2</th>\n",
       "      <td>0.146538</td>\n",
       "      <td>0</td>\n",
       "      <td>Brown's poll campaign move denied    The gover...</td>\n",
       "    </tr>\n",
       "    <tr>\n",
       "      <th>3</th>\n",
       "      <td>0.146304</td>\n",
       "      <td>0</td>\n",
       "      <td>Labour's four little words    Labour has unvei...</td>\n",
       "    </tr>\n",
       "    <tr>\n",
       "      <th>4</th>\n",
       "      <td>0.139733</td>\n",
       "      <td>0</td>\n",
       "      <td>Brown comes out shooting    Labour may have ab...</td>\n",
       "    </tr>\n",
       "  </tbody>\n",
       "</table>\n",
       "</div>"
      ],
      "text/plain": [
       "   Similarity  Label                                            Snippet\n",
       "0    0.153981      0  Labour MP praises Tory campaign    The Conserv...\n",
       "1    0.149486      0  Howard attacks 'pay later' Budget    Tory lead...\n",
       "2    0.146538      0  Brown's poll campaign move denied    The gover...\n",
       "3    0.146304      0  Labour's four little words    Labour has unvei...\n",
       "4    0.139733      0  Brown comes out shooting    Labour may have ab..."
      ]
     },
     "execution_count": 6,
     "metadata": {},
     "output_type": "execute_result"
    }
   ],
   "source": [
    "query = \"election campaign and budget policy\"\n",
    "qv = tfidf.transform([query])\n",
    "dist, idx = index.kneighbors(qv, n_neighbors=5, return_distance=True)\n",
    "sim = 1 - dist[0]\n",
    "\n",
    "pd.DataFrame({\n",
    "    \"Similarity\": sim,\n",
    "    \"Label\": labels[idx[0]],\n",
    "    \"Snippet\": [texts[i][:200] + (\"...\" if len(texts[i])>200 else \"\") for i in idx[0]]\n",
    "})\n"
   ]
  },
  {
   "cell_type": "code",
   "execution_count": 7,
   "id": "1728adec",
   "metadata": {},
   "outputs": [
    {
     "name": "stdout",
     "output_type": "stream",
     "text": [
      "Hold-out ACC: 0.9820 | Macro-F1: 0.9817\n",
      "              precision    recall  f1-score   support\n",
      "\n",
      "           0       0.97      1.00      0.98        84\n",
      "           1       0.99      1.00      1.00       102\n",
      "           2       0.95      0.99      0.97        80\n",
      "           3       1.00      0.97      0.99        77\n",
      "           4       1.00      0.95      0.97       102\n",
      "\n",
      "    accuracy                           0.98       445\n",
      "   macro avg       0.98      0.98      0.98       445\n",
      "weighted avg       0.98      0.98      0.98       445\n",
      "\n"
     ]
    }
   ],
   "source": [
    "from sklearn.model_selection import train_test_split\n",
    "\n",
    "Xtr, Xte, ytr, yte = train_test_split(texts, labels, test_size=0.2, random_state=42, stratify=labels)\n",
    "\n",
    "# dự đoán bằng pipeline đã fit full (minh họa), chuẩn nhất là refit trên Xtr rồi đánh giá Xte\n",
    "preds = pipe.predict(Xte)\n",
    "acc = accuracy_score(yte, preds)\n",
    "f1  = f1_score(yte, preds, average=\"macro\")\n",
    "\n",
    "print(f\"Hold-out ACC: {acc:.4f} | Macro-F1: {f1:.4f}\")\n",
    "print(classification_report(yte, preds))\n"
   ]
  },
  {
   "cell_type": "code",
   "execution_count": 8,
   "id": "4a464f60",
   "metadata": {},
   "outputs": [
    {
     "data": {
      "image/png": "[encoded data removed]",
      "text/plain": [
       "<Figure size 600x500 with 2 Axes>"
      ]
     },
     "metadata": {},
     "output_type": "display_data"
    }
   ],
   "source": [
    "cm = confusion_matrix(yte, preds)\n",
    "plt.figure(figsize=(6,5))\n",
    "sns.heatmap(cm, annot=True, fmt=\"d\", cmap=\"Blues\")\n",
    "plt.xlabel(\"Predicted\"); plt.ylabel(\"True\"); plt.title(\"Confusion Matrix (hold-out 20%)\")\n",
    "plt.tight_layout()\n",
    "plt.show()\n"
   ]
  },
  {
   "cell_type": "code",
   "execution_count": 9,
   "id": "963cb709",
   "metadata": {},
   "outputs": [
    {
     "name": "stdout",
     "output_type": "stream",
     "text": [
      "Saved to: ..\\app\\artifacts\\metrics_showcase\n"
     ]
    }
   ],
   "source": [
    "OUT_DIR = ARTIF_DIR / \"metrics_showcase\"\n",
    "OUT_DIR.mkdir(parents=True, exist_ok=True)\n",
    "\n",
    "# Lưu bảng KNN neighbors, VSM search và CM\n",
    "knn_tbl.to_csv(OUT_DIR / \"knn_neighbors_example.csv\", index=False)\n",
    "\n",
    "# lưu 5 kết quả search từ Cell 6\n",
    "search_tbl = pd.DataFrame({\n",
    "    \"Similarity\": sim,\n",
    "    \"Label\": labels[idx[0]],\n",
    "    \"Snippet\": [texts[i][:200] + (\"...\" if len(texts[i])>200 else \"\") for i in idx[0]]\n",
    "})\n",
    "search_tbl.to_csv(OUT_DIR / \"vsm_search_example.csv\", index=False)\n",
    "\n",
    "# lưu classification report + scores\n",
    "with open(OUT_DIR / \"holdout_classification_report.txt\", \"w\", encoding=\"utf-8\") as f:\n",
    "    f.write(f\"ACC={acc:.4f}, Macro-F1={f1:.4f}\\n\\n\")\n",
    "    f.write(classification_report(yte, preds))\n",
    "\n",
    "plt.figure(figsize=(6,5))\n",
    "sns.heatmap(cm, annot=True, fmt=\"d\", cmap=\"Blues\")\n",
    "plt.xlabel(\"Predicted\"); plt.ylabel(\"True\"); plt.title(\"Confusion Matrix (hold-out 20%)\")\n",
    "plt.tight_layout()\n",
    "plt.savefig(OUT_DIR / \"confusion_matrix.png\", dpi=160)\n",
    "plt.close()\n",
    "\n",
    "print(\"Saved to:\", OUT_DIR)\n"
   ]
  },
  {
   "cell_type": "code",
   "execution_count": null,
   "id": "520abb1d",
   "metadata": {},
   "outputs": [],
   "source": []
  }
 ],
 "metadata": {
  "kernelspec": {
   "display_name": "Python 3",
   "language": "python",
   "name": "python3"
  },
  "language_info": {
   "codemirror_mode": {
    "name": "ipython",
    "version": 3
   },
   "file_extension": ".py",
   "mimetype": "text/x-python",
   "name": "python",
   "nbconvert_exporter": "python",
   "pygments_lexer": "ipython3",
   "version": "3.12.6"
  }
 },
 "nbformat": 4,
 "nbformat_minor": 5
}
