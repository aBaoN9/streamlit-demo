{
 "cells": [
  {
   "cell_type": "markdown",
   "id": "38603806",
   "metadata": {},
   "source": [
    "Mục đích: nạp thư viện, đặt seed, cấu hình hiển thị"
   ]
  },
  {
   "cell_type": "code",
   "execution_count": 1,
   "id": "07f41963",
   "metadata": {},
   "outputs": [],
   "source": [
    "from pathlib import Path\n",
    "import numpy as np\n",
    "import pandas as pd\n",
    "import matplotlib.pyplot as plt\n",
    "import seaborn as sns\n",
    "\n",
    "from sklearn.linear_model import LogisticRegression\n",
    "from sklearn.metrics import (\n",
    "    accuracy_score, precision_score, recall_score, f1_score,\n",
    "    roc_auc_score, average_precision_score,\n",
    "    confusion_matrix, RocCurveDisplay, PrecisionRecallDisplay\n",
    ")\n",
    "\n",
    "SEED = 42\n",
    "np.random.seed(SEED)\n",
    "sns.set(style=\"whitegrid\", palette=\"muted\")\n",
    "pd.set_option(\"display.max_columns\", None)\n",
    "\n",
    "PROC_DIR = Path(\"../data/processed\")\n",
    "REPORT_DIR = Path(\"../report/figures\")\n",
    "REPORT_DIR.mkdir(parents=True, exist_ok=True)\n"
   ]
  },
  {
   "cell_type": "markdown",
   "id": "32b47f66",
   "metadata": {},
   "source": [
    "Mục đích: đọc dữ liệu đã xử lý từ Note 01"
   ]
  },
  {
   "cell_type": "code",
   "execution_count": 2,
   "id": "b8fe0837",
   "metadata": {},
   "outputs": [
    {
     "data": {
      "text/plain": [
       "((172, 21), (43, 21), (172,), (43,))"
      ]
     },
     "execution_count": 2,
     "metadata": {},
     "output_type": "execute_result"
    }
   ],
   "source": [
    "X_train = pd.read_csv(PROC_DIR / \"X_train.csv\", index_col=0)\n",
    "X_test  = pd.read_csv(PROC_DIR / \"X_test.csv\",  index_col=0)\n",
    "y_train = pd.read_csv(PROC_DIR / \"y_train.csv\", index_col=0)[\"status\"]\n",
    "y_test  = pd.read_csv(PROC_DIR / \"y_test.csv\",  index_col=0)[\"status\"]\n",
    "\n",
    "# (tuỳ chọn) đọc tên cột sau OHE để map hệ số\n",
    "featnames_path = PROC_DIR / \"feature_names.txt\"\n",
    "feature_names = None\n",
    "if featnames_path.exists():\n",
    "    feature_names = [ln.strip() for ln in open(featnames_path, \"r\", encoding=\"utf-8\").read().splitlines()]\n",
    "\n",
    "X_train.shape, X_test.shape, y_train.shape, y_test.shape\n"
   ]
  },
  {
   "cell_type": "markdown",
   "id": "5f8e414f",
   "metadata": {},
   "source": [
    "Mục đích: kiểm tra lại kích thước và tỉ lệ lớp"
   ]
  },
  {
   "cell_type": "code",
   "execution_count": 3,
   "id": "077c9ab3",
   "metadata": {},
   "outputs": [
    {
     "name": "stdout",
     "output_type": "stream",
     "text": [
      "Train: (172, 21) | Test: (43, 21)\n",
      "Class balance (train):\n",
      "status\n",
      "1    0.686\n",
      "0    0.314\n",
      "Name: proportion, dtype: float64\n",
      "Class balance (test):\n",
      "status\n",
      "1    0.698\n",
      "0    0.302\n",
      "Name: proportion, dtype: float64\n"
     ]
    }
   ],
   "source": [
    "print(\"Train:\", X_train.shape, \"| Test:\", X_test.shape)\n",
    "print(\"Class balance (train):\")\n",
    "print(y_train.value_counts(normalize=True).round(3))\n",
    "print(\"Class balance (test):\")\n",
    "print(y_test.value_counts(normalize=True).round(3))\n",
    "assert X_train.shape[1] == X_test.shape[1], \"Số cột train/test không khớp!\"\n"
   ]
  },
  {
   "cell_type": "markdown",
   "id": "c545a808",
   "metadata": {},
   "source": [
    "Mục đích: fit mô hình baseline; dùng class_weight='none' trước để làm mốc"
   ]
  },
  {
   "cell_type": "code",
   "execution_count": null,
   "id": "2646ef59",
   "metadata": {},
   "outputs": [
    {
     "name": "stdout",
     "output_type": "stream",
     "text": [
      "Đã fit Logistic Regression baseline.\n"
     ]
    }
   ],
   "source": [
    "logreg = LogisticRegression(\n",
    "    penalty=\"l2\",\n",
    "    solver=\"lbfgs\",     # dữ liệu không quá nhỏ, lbfgs ổn định\n",
    "    max_iter=1000,\n",
    "    random_state=SEED\n",
    ")\n",
    "logreg.fit(X_train, y_train)\n",
    "\n",
    "print(\"Đã fit Logistic Regression baseline.\")\n"
   ]
  },
  {
   "cell_type": "markdown",
   "id": "8181008e",
   "metadata": {},
   "source": [
    "Mục đích: lấy y_pred (ngưỡng 0.5) và y_score (proba lớp 1)"
   ]
  },
  {
   "cell_type": "code",
   "execution_count": 5,
   "id": "11008f88",
   "metadata": {},
   "outputs": [
    {
     "data": {
      "text/plain": [
       "1    28\n",
       "0    15\n",
       "Name: count, dtype: int64"
      ]
     },
     "execution_count": 5,
     "metadata": {},
     "output_type": "execute_result"
    }
   ],
   "source": [
    "y_score = logreg.predict_proba(X_test)[:, 1]\n",
    "y_pred = (y_score >= 0.5).astype(int)\n",
    "\n",
    "pd.Series(y_pred).value_counts()\n"
   ]
  },
  {
   "cell_type": "markdown",
   "id": "4bbd51cc",
   "metadata": {},
   "source": [
    "Mục đích: in accuracy, precision, recall, f1, ROC AUC, PR AUC"
   ]
  },
  {
   "cell_type": "code",
   "execution_count": 6,
   "id": "67e2dce0",
   "metadata": {},
   "outputs": [
    {
     "name": "stdout",
     "output_type": "stream",
     "text": [
      "Accuracy :  0.860\n",
      "Precision:  0.929\n",
      "Recall   :  0.867\n",
      "F1-score :  0.897\n",
      "ROC AUC  :  0.938\n",
      "PR  AUC  :  0.976\n"
     ]
    }
   ],
   "source": [
    "acc  = accuracy_score(y_test, y_pred)\n",
    "prec = precision_score(y_test, y_pred, zero_division=0)\n",
    "rec  = recall_score(y_test, y_pred, zero_division=0)\n",
    "f1   = f1_score(y_test, y_pred, zero_division=0)\n",
    "roc  = roc_auc_score(y_test, y_score)\n",
    "prA  = average_precision_score(y_test, y_score)  # PR AUC\n",
    "\n",
    "print(f\"Accuracy : {acc: .3f}\")\n",
    "print(f\"Precision: {prec: .3f}\")\n",
    "print(f\"Recall   : {rec: .3f}\")\n",
    "print(f\"F1-score : {f1: .3f}\")\n",
    "print(f\"ROC AUC  : {roc: .3f}\")\n",
    "print(f\"PR  AUC  : {prA: .3f}\")\n"
   ]
  },
  {
   "cell_type": "markdown",
   "id": "a4ee8264",
   "metadata": {},
   "source": [
    "Mục đích: trực quan hoá dự đoán đúng/sai"
   ]
  },
  {
   "cell_type": "code",
   "execution_count": 7,
   "id": "48fea672",
   "metadata": {},
   "outputs": [
    {
     "data": {
      "image/png": "[encoded data removed]",
      "text/plain": [
       "<Figure size 450x380 with 1 Axes>"
      ]
     },
     "metadata": {},
     "output_type": "display_data"
    }
   ],
   "source": [
    "cm = confusion_matrix(y_test, y_pred)\n",
    "plt.figure(figsize=(4.5,3.8))\n",
    "sns.heatmap(cm, annot=True, fmt=\"d\", cmap=\"Blues\", cbar=False)\n",
    "plt.xlabel(\"Predicted\")\n",
    "plt.ylabel(\"Actual\")\n",
    "plt.title(\"Confusion Matrix — Logistic Baseline\")\n",
    "plt.tight_layout()\n",
    "plt.savefig(REPORT_DIR / \"confusion_matrix.png\", dpi=150)\n",
    "plt.show()\n"
   ]
  },
  {
   "cell_type": "markdown",
   "id": "c44fb390",
   "metadata": {},
   "source": [
    "Mục đích: trực quan năng lực phân biệt theo các ngưỡng khác nhau"
   ]
  },
  {
   "cell_type": "code",
   "execution_count": 8,
   "id": "406a6990",
   "metadata": {},
   "outputs": [
    {
     "data": {
      "text/plain": [
       "<Figure size 480x380 with 0 Axes>"
      ]
     },
     "metadata": {},
     "output_type": "display_data"
    },
    {
     "data": {
      "image/png": "[encoded data removed]",
      "text/plain": [
       "<Figure size 640x480 with 1 Axes>"
      ]
     },
     "metadata": {},
     "output_type": "display_data"
    }
   ],
   "source": [
    "plt.figure(figsize=(4.8,3.8))\n",
    "RocCurveDisplay.from_predictions(y_test, y_score)\n",
    "plt.title(f\"ROC Curve — AUC = {roc_auc_score(y_test, y_score):.3f}\")\n",
    "plt.tight_layout()\n",
    "plt.savefig(REPORT_DIR / \"roc_curve.png\", dpi=150)\n",
    "plt.show()\n"
   ]
  },
  {
   "cell_type": "markdown",
   "id": "aa013395",
   "metadata": {},
   "source": [
    "Mục đích: hữu ích khi dữ liệu mất cân bằng"
   ]
  },
  {
   "cell_type": "code",
   "execution_count": 9,
   "id": "b200914f",
   "metadata": {},
   "outputs": [
    {
     "data": {
      "text/plain": [
       "<Figure size 480x380 with 0 Axes>"
      ]
     },
     "metadata": {},
     "output_type": "display_data"
    },
    {
     "data": {
      "image/png": "[encoded data removed]",
      "text/plain": [
       "<Figure size 640x480 with 1 Axes>"
      ]
     },
     "metadata": {},
     "output_type": "display_data"
    }
   ],
   "source": [
    "plt.figure(figsize=(4.8,3.8))\n",
    "PrecisionRecallDisplay.from_predictions(y_test, y_score)\n",
    "plt.title(f\"Precision–Recall — AP = {average_precision_score(y_test, y_score):.3f}\")\n",
    "plt.tight_layout()\n",
    "plt.savefig(REPORT_DIR / \"pr_curve.png\", dpi=150)\n",
    "plt.show()\n"
   ]
  },
  {
   "cell_type": "markdown",
   "id": "f5846fe5",
   "metadata": {},
   "source": [
    "Mục đích: xem đặc trưng tác động mạnh nhất (tăng/giảm xác suất)"
   ]
  },
  {
   "cell_type": "code",
   "execution_count": 10,
   "id": "5742613e",
   "metadata": {},
   "outputs": [
    {
     "data": {
      "text/html": [
       "<style type=\"text/css\">\n",
       "</style>\n",
       "<table id=\"T_656ce\">\n",
       "  <thead>\n",
       "    <tr>\n",
       "      <th class=\"blank level0\" >&nbsp;</th>\n",
       "      <th id=\"T_656ce_level0_col0\" class=\"col_heading level0 col0\" >feature</th>\n",
       "      <th id=\"T_656ce_level0_col1\" class=\"col_heading level0 col1\" >coef</th>\n",
       "      <th id=\"T_656ce_level0_col2\" class=\"col_heading level0 col2\" >odds_ratio</th>\n",
       "    </tr>\n",
       "  </thead>\n",
       "  <tbody>\n",
       "    <tr>\n",
       "      <th id=\"T_656ce_level0_row0\" class=\"row_heading level0 row0\" >16</th>\n",
       "      <td id=\"T_656ce_row0_col0\" class=\"data row0 col0\" >ssc_p</td>\n",
       "      <td id=\"T_656ce_row0_col1\" class=\"data row0 col1\" >1.853</td>\n",
       "      <td id=\"T_656ce_row0_col2\" class=\"data row0 col2\" >6.379</td>\n",
       "    </tr>\n",
       "    <tr>\n",
       "      <th id=\"T_656ce_level0_row1\" class=\"row_heading level0 row1\" >18</th>\n",
       "      <td id=\"T_656ce_row1_col0\" class=\"data row1 col0\" >degree_p</td>\n",
       "      <td id=\"T_656ce_row1_col1\" class=\"data row1 col1\" >1.095</td>\n",
       "      <td id=\"T_656ce_row1_col2\" class=\"data row1 col2\" >2.990</td>\n",
       "    </tr>\n",
       "    <tr>\n",
       "      <th id=\"T_656ce_level0_row2\" class=\"row_heading level0 row2\" >17</th>\n",
       "      <td id=\"T_656ce_row2_col0\" class=\"data row2 col0\" >hsc_p</td>\n",
       "      <td id=\"T_656ce_row2_col1\" class=\"data row2 col1\" >0.904</td>\n",
       "      <td id=\"T_656ce_row2_col2\" class=\"data row2 col2\" >2.470</td>\n",
       "    </tr>\n",
       "    <tr>\n",
       "      <th id=\"T_656ce_level0_row3\" class=\"row_heading level0 row3\" >13</th>\n",
       "      <td id=\"T_656ce_row3_col0\" class=\"data row3 col0\" >workex_Yes</td>\n",
       "      <td id=\"T_656ce_row3_col1\" class=\"data row3 col1\" >0.847</td>\n",
       "      <td id=\"T_656ce_row3_col2\" class=\"data row3 col2\" >2.332</td>\n",
       "    </tr>\n",
       "    <tr>\n",
       "      <th id=\"T_656ce_level0_row4\" class=\"row_heading level0 row4\" >9</th>\n",
       "      <td id=\"T_656ce_row4_col0\" class=\"data row4 col0\" >degree_t_Comm&Mgmt</td>\n",
       "      <td id=\"T_656ce_row4_col1\" class=\"data row4 col1\" >0.645</td>\n",
       "      <td id=\"T_656ce_row4_col2\" class=\"data row4 col2\" >1.906</td>\n",
       "    </tr>\n",
       "    <tr>\n",
       "      <th id=\"T_656ce_level0_row5\" class=\"row_heading level0 row5\" >1</th>\n",
       "      <td id=\"T_656ce_row5_col0\" class=\"data row5 col0\" >gender_M</td>\n",
       "      <td id=\"T_656ce_row5_col1\" class=\"data row5 col1\" >0.501</td>\n",
       "      <td id=\"T_656ce_row5_col2\" class=\"data row5 col2\" >1.650</td>\n",
       "    </tr>\n",
       "    <tr>\n",
       "      <th id=\"T_656ce_level0_row6\" class=\"row_heading level0 row6\" >3</th>\n",
       "      <td id=\"T_656ce_row6_col0\" class=\"data row6 col0\" >ssc_b_Others</td>\n",
       "      <td id=\"T_656ce_row6_col1\" class=\"data row6 col1\" >0.344</td>\n",
       "      <td id=\"T_656ce_row6_col2\" class=\"data row6 col2\" >1.411</td>\n",
       "    </tr>\n",
       "    <tr>\n",
       "      <th id=\"T_656ce_level0_row7\" class=\"row_heading level0 row7\" >6</th>\n",
       "      <td id=\"T_656ce_row7_col0\" class=\"data row7 col0\" >hsc_s_Arts</td>\n",
       "      <td id=\"T_656ce_row7_col1\" class=\"data row7 col1\" >0.309</td>\n",
       "      <td id=\"T_656ce_row7_col2\" class=\"data row7 col2\" >1.362</td>\n",
       "    </tr>\n",
       "    <tr>\n",
       "      <th id=\"T_656ce_level0_row8\" class=\"row_heading level0 row8\" >4</th>\n",
       "      <td id=\"T_656ce_row8_col0\" class=\"data row8 col0\" >hsc_b_Central</td>\n",
       "      <td id=\"T_656ce_row8_col1\" class=\"data row8 col1\" >0.129</td>\n",
       "      <td id=\"T_656ce_row8_col2\" class=\"data row8 col2\" >1.138</td>\n",
       "    </tr>\n",
       "    <tr>\n",
       "      <th id=\"T_656ce_level0_row9\" class=\"row_heading level0 row9\" >14</th>\n",
       "      <td id=\"T_656ce_row9_col0\" class=\"data row9 col0\" >specialisation_Mkt&Fin</td>\n",
       "      <td id=\"T_656ce_row9_col1\" class=\"data row9 col1\" >0.057</td>\n",
       "      <td id=\"T_656ce_row9_col2\" class=\"data row9 col2\" >1.059</td>\n",
       "    </tr>\n",
       "    <tr>\n",
       "      <th id=\"T_656ce_level0_row10\" class=\"row_heading level0 row10\" >19</th>\n",
       "      <td id=\"T_656ce_row10_col0\" class=\"data row10 col0\" >etest_p</td>\n",
       "      <td id=\"T_656ce_row10_col1\" class=\"data row10 col1\" >-0.038</td>\n",
       "      <td id=\"T_656ce_row10_col2\" class=\"data row10 col2\" >0.962</td>\n",
       "    </tr>\n",
       "    <tr>\n",
       "      <th id=\"T_656ce_level0_row11\" class=\"row_heading level0 row11\" >15</th>\n",
       "      <td id=\"T_656ce_row11_col0\" class=\"data row11 col0\" >specialisation_Mkt&HR</td>\n",
       "      <td id=\"T_656ce_row11_col1\" class=\"data row11 col1\" >-0.057</td>\n",
       "      <td id=\"T_656ce_row11_col2\" class=\"data row11 col2\" >0.945</td>\n",
       "    </tr>\n",
       "    <tr>\n",
       "      <th id=\"T_656ce_level0_row12\" class=\"row_heading level0 row12\" >10</th>\n",
       "      <td id=\"T_656ce_row12_col0\" class=\"data row12 col0\" >degree_t_Others</td>\n",
       "      <td id=\"T_656ce_row12_col1\" class=\"data row12 col1\" >-0.089</td>\n",
       "      <td id=\"T_656ce_row12_col2\" class=\"data row12 col2\" >0.915</td>\n",
       "    </tr>\n",
       "    <tr>\n",
       "      <th id=\"T_656ce_level0_row13\" class=\"row_heading level0 row13\" >5</th>\n",
       "      <td id=\"T_656ce_row13_col0\" class=\"data row13 col0\" >hsc_b_Others</td>\n",
       "      <td id=\"T_656ce_row13_col1\" class=\"data row13 col1\" >-0.129</td>\n",
       "      <td id=\"T_656ce_row13_col2\" class=\"data row13 col2\" >0.879</td>\n",
       "    </tr>\n",
       "    <tr>\n",
       "      <th id=\"T_656ce_level0_row14\" class=\"row_heading level0 row14\" >8</th>\n",
       "      <td id=\"T_656ce_row14_col0\" class=\"data row14 col0\" >hsc_s_Science</td>\n",
       "      <td id=\"T_656ce_row14_col1\" class=\"data row14 col1\" >-0.146</td>\n",
       "      <td id=\"T_656ce_row14_col2\" class=\"data row14 col2\" >0.864</td>\n",
       "    </tr>\n",
       "  </tbody>\n",
       "</table>\n"
      ],
      "text/plain": [
       "<pandas.io.formats.style.Styler at 0x239c712ef90>"
      ]
     },
     "metadata": {},
     "output_type": "display_data"
    },
    {
     "data": {
      "text/html": [
       "<style type=\"text/css\">\n",
       "</style>\n",
       "<table id=\"T_754ca\">\n",
       "  <thead>\n",
       "    <tr>\n",
       "      <th class=\"blank level0\" >&nbsp;</th>\n",
       "      <th id=\"T_754ca_level0_col0\" class=\"col_heading level0 col0\" >feature</th>\n",
       "      <th id=\"T_754ca_level0_col1\" class=\"col_heading level0 col1\" >coef</th>\n",
       "      <th id=\"T_754ca_level0_col2\" class=\"col_heading level0 col2\" >odds_ratio</th>\n",
       "    </tr>\n",
       "  </thead>\n",
       "  <tbody>\n",
       "    <tr>\n",
       "      <th id=\"T_754ca_level0_row0\" class=\"row_heading level0 row0\" >20</th>\n",
       "      <td id=\"T_754ca_row0_col0\" class=\"data row0 col0\" >mba_p</td>\n",
       "      <td id=\"T_754ca_row0_col1\" class=\"data row0 col1\" >-0.961</td>\n",
       "      <td id=\"T_754ca_row0_col2\" class=\"data row0 col2\" >0.382</td>\n",
       "    </tr>\n",
       "    <tr>\n",
       "      <th id=\"T_754ca_level0_row1\" class=\"row_heading level0 row1\" >12</th>\n",
       "      <td id=\"T_754ca_row1_col0\" class=\"data row1 col0\" >workex_No</td>\n",
       "      <td id=\"T_754ca_row1_col1\" class=\"data row1 col1\" >-0.846</td>\n",
       "      <td id=\"T_754ca_row1_col2\" class=\"data row1 col2\" >0.429</td>\n",
       "    </tr>\n",
       "    <tr>\n",
       "      <th id=\"T_754ca_level0_row2\" class=\"row_heading level0 row2\" >11</th>\n",
       "      <td id=\"T_754ca_row2_col0\" class=\"data row2 col0\" >degree_t_Sci&Tech</td>\n",
       "      <td id=\"T_754ca_row2_col1\" class=\"data row2 col1\" >-0.556</td>\n",
       "      <td id=\"T_754ca_row2_col2\" class=\"data row2 col2\" >0.574</td>\n",
       "    </tr>\n",
       "    <tr>\n",
       "      <th id=\"T_754ca_level0_row3\" class=\"row_heading level0 row3\" >0</th>\n",
       "      <td id=\"T_754ca_row3_col0\" class=\"data row3 col0\" >gender_F</td>\n",
       "      <td id=\"T_754ca_row3_col1\" class=\"data row3 col1\" >-0.501</td>\n",
       "      <td id=\"T_754ca_row3_col2\" class=\"data row3 col2\" >0.606</td>\n",
       "    </tr>\n",
       "    <tr>\n",
       "      <th id=\"T_754ca_level0_row4\" class=\"row_heading level0 row4\" >2</th>\n",
       "      <td id=\"T_754ca_row4_col0\" class=\"data row4 col0\" >ssc_b_Central</td>\n",
       "      <td id=\"T_754ca_row4_col1\" class=\"data row4 col1\" >-0.344</td>\n",
       "      <td id=\"T_754ca_row4_col2\" class=\"data row4 col2\" >0.709</td>\n",
       "    </tr>\n",
       "    <tr>\n",
       "      <th id=\"T_754ca_level0_row5\" class=\"row_heading level0 row5\" >7</th>\n",
       "      <td id=\"T_754ca_row5_col0\" class=\"data row5 col0\" >hsc_s_Commerce</td>\n",
       "      <td id=\"T_754ca_row5_col1\" class=\"data row5 col1\" >-0.163</td>\n",
       "      <td id=\"T_754ca_row5_col2\" class=\"data row5 col2\" >0.850</td>\n",
       "    </tr>\n",
       "    <tr>\n",
       "      <th id=\"T_754ca_level0_row6\" class=\"row_heading level0 row6\" >8</th>\n",
       "      <td id=\"T_754ca_row6_col0\" class=\"data row6 col0\" >hsc_s_Science</td>\n",
       "      <td id=\"T_754ca_row6_col1\" class=\"data row6 col1\" >-0.146</td>\n",
       "      <td id=\"T_754ca_row6_col2\" class=\"data row6 col2\" >0.864</td>\n",
       "    </tr>\n",
       "    <tr>\n",
       "      <th id=\"T_754ca_level0_row7\" class=\"row_heading level0 row7\" >5</th>\n",
       "      <td id=\"T_754ca_row7_col0\" class=\"data row7 col0\" >hsc_b_Others</td>\n",
       "      <td id=\"T_754ca_row7_col1\" class=\"data row7 col1\" >-0.129</td>\n",
       "      <td id=\"T_754ca_row7_col2\" class=\"data row7 col2\" >0.879</td>\n",
       "    </tr>\n",
       "    <tr>\n",
       "      <th id=\"T_754ca_level0_row8\" class=\"row_heading level0 row8\" >10</th>\n",
       "      <td id=\"T_754ca_row8_col0\" class=\"data row8 col0\" >degree_t_Others</td>\n",
       "      <td id=\"T_754ca_row8_col1\" class=\"data row8 col1\" >-0.089</td>\n",
       "      <td id=\"T_754ca_row8_col2\" class=\"data row8 col2\" >0.915</td>\n",
       "    </tr>\n",
       "    <tr>\n",
       "      <th id=\"T_754ca_level0_row9\" class=\"row_heading level0 row9\" >15</th>\n",
       "      <td id=\"T_754ca_row9_col0\" class=\"data row9 col0\" >specialisation_Mkt&HR</td>\n",
       "      <td id=\"T_754ca_row9_col1\" class=\"data row9 col1\" >-0.057</td>\n",
       "      <td id=\"T_754ca_row9_col2\" class=\"data row9 col2\" >0.945</td>\n",
       "    </tr>\n",
       "    <tr>\n",
       "      <th id=\"T_754ca_level0_row10\" class=\"row_heading level0 row10\" >19</th>\n",
       "      <td id=\"T_754ca_row10_col0\" class=\"data row10 col0\" >etest_p</td>\n",
       "      <td id=\"T_754ca_row10_col1\" class=\"data row10 col1\" >-0.038</td>\n",
       "      <td id=\"T_754ca_row10_col2\" class=\"data row10 col2\" >0.962</td>\n",
       "    </tr>\n",
       "    <tr>\n",
       "      <th id=\"T_754ca_level0_row11\" class=\"row_heading level0 row11\" >14</th>\n",
       "      <td id=\"T_754ca_row11_col0\" class=\"data row11 col0\" >specialisation_Mkt&Fin</td>\n",
       "      <td id=\"T_754ca_row11_col1\" class=\"data row11 col1\" >0.057</td>\n",
       "      <td id=\"T_754ca_row11_col2\" class=\"data row11 col2\" >1.059</td>\n",
       "    </tr>\n",
       "    <tr>\n",
       "      <th id=\"T_754ca_level0_row12\" class=\"row_heading level0 row12\" >4</th>\n",
       "      <td id=\"T_754ca_row12_col0\" class=\"data row12 col0\" >hsc_b_Central</td>\n",
       "      <td id=\"T_754ca_row12_col1\" class=\"data row12 col1\" >0.129</td>\n",
       "      <td id=\"T_754ca_row12_col2\" class=\"data row12 col2\" >1.138</td>\n",
       "    </tr>\n",
       "    <tr>\n",
       "      <th id=\"T_754ca_level0_row13\" class=\"row_heading level0 row13\" >6</th>\n",
       "      <td id=\"T_754ca_row13_col0\" class=\"data row13 col0\" >hsc_s_Arts</td>\n",
       "      <td id=\"T_754ca_row13_col1\" class=\"data row13 col1\" >0.309</td>\n",
       "      <td id=\"T_754ca_row13_col2\" class=\"data row13 col2\" >1.362</td>\n",
       "    </tr>\n",
       "    <tr>\n",
       "      <th id=\"T_754ca_level0_row14\" class=\"row_heading level0 row14\" >3</th>\n",
       "      <td id=\"T_754ca_row14_col0\" class=\"data row14 col0\" >ssc_b_Others</td>\n",
       "      <td id=\"T_754ca_row14_col1\" class=\"data row14 col1\" >0.344</td>\n",
       "      <td id=\"T_754ca_row14_col2\" class=\"data row14 col2\" >1.411</td>\n",
       "    </tr>\n",
       "  </tbody>\n",
       "</table>\n"
      ],
      "text/plain": [
       "<pandas.io.formats.style.Styler at 0x239c95aa660>"
      ]
     },
     "metadata": {},
     "output_type": "display_data"
    }
   ],
   "source": [
    "coef = logreg.coef_.ravel()\n",
    "if feature_names is None or len(feature_names) != len(coef):\n",
    "    feature_names = [f\"f{i}\" for i in range(len(coef))]\n",
    "\n",
    "coef_df = pd.DataFrame({\n",
    "    \"feature\": feature_names,\n",
    "    \"coef\": coef,\n",
    "    \"odds_ratio\": np.exp(coef)\n",
    "}).sort_values(\"coef\", ascending=False)\n",
    "\n",
    "display(coef_df.head(15).style.format({\"coef\": \"{:.3f}\", \"odds_ratio\": \"{:.3f}\"}))\n",
    "display(coef_df.tail(15).sort_values(\"coef\").style.format({\"coef\": \"{:.3f}\", \"odds_ratio\": \"{:.3f}\"}))\n"
   ]
  },
  {
   "cell_type": "markdown",
   "id": "3add04e9",
   "metadata": {},
   "source": [
    "Mục đích: tìm ngưỡng tốt hơn 0.5 nếu cần cân bằng Precision–Recall"
   ]
  },
  {
   "cell_type": "code",
   "execution_count": 11,
   "id": "57ed8127",
   "metadata": {},
   "outputs": [
    {
     "name": "stdout",
     "output_type": "stream",
     "text": [
      "Ngưỡng tối ưu theo F1 ~ 0.00, F1_max = 0.822\n"
     ]
    }
   ],
   "source": [
    "thresholds = np.linspace(0, 1, 201)\n",
    "f1_scores, youdens = [], []\n",
    "\n",
    "for t in thresholds:\n",
    "    yp = (y_score >= t).astype(int)\n",
    "    f1_scores.append(f1_score(y_test, yp, zero_division=0))\n",
    "    # Youden's J = TPR - FPR\n",
    "    from sklearn.metrics import roc_curve\n",
    "    fpr, tpr, _ = roc_curve(y_test, y_score)\n",
    "    # (để nhanh có thể ước lượng J tại t, nhưng chuẩn nhất là lấy max(tpr-fpr) từ đường ROC)\n",
    "    break\n",
    "\n",
    "# Cách nhanh: lấy ngưỡng tối đa F1\n",
    "best_t = thresholds[np.argmax(f1_scores)]\n",
    "print(f\"Ngưỡng tối ưu theo F1 ~ {best_t:.2f}, F1_max = {np.max(f1_scores):.3f}\")\n"
   ]
  },
  {
   "cell_type": "markdown",
   "id": "defbe8d0",
   "metadata": {},
   "source": [
    "Mục đích: thử đối phó mất cân bằng lớp; không ghi đè mô hình baseline"
   ]
  },
  {
   "cell_type": "code",
   "execution_count": 12,
   "id": "3ff2cc09",
   "metadata": {},
   "outputs": [
    {
     "name": "stdout",
     "output_type": "stream",
     "text": [
      "Balanced — ACC: 0.860 | F1: 0.893 | ROC AUC: 0.938 | PR AUC: 0.975\n"
     ]
    }
   ],
   "source": [
    "logreg_bal = LogisticRegression(\n",
    "    penalty=\"l2\",\n",
    "    solver=\"lbfgs\",\n",
    "    class_weight=\"balanced\",\n",
    "    max_iter=1000,\n",
    "    random_state=SEED\n",
    ")\n",
    "logreg_bal.fit(X_train, y_train)\n",
    "y_score_bal = logreg_bal.predict_proba(X_test)[:, 1]\n",
    "y_pred_bal = (y_score_bal >= 0.5).astype(int)\n",
    "\n",
    "print(\"Balanced —\",\n",
    "      \"ACC:\", f\"{accuracy_score(y_test, y_pred_bal):.3f}\",\n",
    "      \"| F1:\", f\"{f1_score(y_test, y_pred_bal, zero_division=0):.3f}\",\n",
    "      \"| ROC AUC:\", f\"{roc_auc_score(y_test, y_score_bal):.3f}\",\n",
    "      \"| PR AUC:\", f\"{average_precision_score(y_test, y_score_bal):.3f}\")\n"
   ]
  },
  {
   "cell_type": "code",
   "execution_count": null,
   "id": "48f13ae0",
   "metadata": {},
   "outputs": [],
   "source": []
  }
 ],
 "metadata": {
  "kernelspec": {
   "display_name": "Python (lr-env)",
   "language": "python",
   "name": "lr-env"
  },
  "language_info": {
   "codemirror_mode": {
    "name": "ipython",
    "version": 3
   },
   "file_extension": ".py",
   "mimetype": "text/x-python",
   "name": "python",
   "nbconvert_exporter": "python",
   "pygments_lexer": "ipython3",
   "version": "3.12.6"
  }
 },
 "nbformat": 4,
 "nbformat_minor": 5
}
