{
 "cells": [
  {
   "cell_type": "markdown",
   "id": "1be83557",
   "metadata": {},
   "source": [
    "Mục đích: nạp thư viện, load processed data"
   ]
  },
  {
   "cell_type": "code",
   "execution_count": 1,
   "id": "11894ed0",
   "metadata": {},
   "outputs": [
    {
     "name": "stdout",
     "output_type": "stream",
     "text": [
      "Train: (172, 21) Test: (43, 21)\n"
     ]
    }
   ],
   "source": [
    "import pandas as pd\n",
    "import numpy as np\n",
    "from pathlib import Path\n",
    "\n",
    "from sklearn.linear_model import LogisticRegression\n",
    "from sklearn.metrics import accuracy_score, f1_score, roc_auc_score\n",
    "\n",
    "PROC_DIR = Path(\"../data/processed\")\n",
    "\n",
    "# load processed data\n",
    "X_train = pd.read_csv(PROC_DIR / \"X_train.csv\", index_col=0)\n",
    "X_test  = pd.read_csv(PROC_DIR / \"X_test.csv\", index_col=0)\n",
    "y_train = pd.read_csv(PROC_DIR / \"y_train.csv\", index_col=0)[\"status\"]\n",
    "y_test  = pd.read_csv(PROC_DIR / \"y_test.csv\", index_col=0)[\"status\"]\n",
    "\n",
    "print(\"Train:\", X_train.shape, \"Test:\", X_test.shape)\n"
   ]
  },
  {
   "cell_type": "markdown",
   "id": "60b04339",
   "metadata": {},
   "source": [
    "Mục đích: fit Logistic Regression trên processed data"
   ]
  },
  {
   "cell_type": "code",
   "execution_count": 2,
   "id": "15de2715",
   "metadata": {},
   "outputs": [
    {
     "name": "stdout",
     "output_type": "stream",
     "text": [
      "Model đã train xong.\n"
     ]
    }
   ],
   "source": [
    "logreg = LogisticRegression(\n",
    "    penalty=\"l2\",\n",
    "    solver=\"lbfgs\",\n",
    "    max_iter=1000,\n",
    "    random_state=42\n",
    ")\n",
    "\n",
    "logreg.fit(X_train, y_train)\n",
    "print(\"Model đã train xong.\")\n"
   ]
  },
  {
   "cell_type": "markdown",
   "id": "f98a045e",
   "metadata": {},
   "source": [
    "Mục đích: xem kết quả cơ bản để đảm bảo pipeline chạy đúng"
   ]
  },
  {
   "cell_type": "code",
   "execution_count": 3,
   "id": "2c51cfdf",
   "metadata": {},
   "outputs": [
    {
     "name": "stdout",
     "output_type": "stream",
     "text": [
      "Accuracy: 0.860 | F1: 0.897 | ROC AUC: 0.938\n"
     ]
    }
   ],
   "source": [
    "y_pred = logreg.predict(X_test)\n",
    "y_score = logreg.predict_proba(X_test)[:, 1]\n",
    "\n",
    "acc = accuracy_score(y_test, y_pred)\n",
    "f1  = f1_score(y_test, y_pred)\n",
    "roc = roc_auc_score(y_test, y_score)\n",
    "\n",
    "print(f\"Accuracy: {acc:.3f} | F1: {f1:.3f} | ROC AUC: {roc:.3f}\")\n"
   ]
  },
  {
   "cell_type": "markdown",
   "id": "334df894",
   "metadata": {},
   "source": [
    "Mục đích: xem có overfitting không"
   ]
  },
  {
   "cell_type": "code",
   "execution_count": 4,
   "id": "a2d70a8d",
   "metadata": {},
   "outputs": [
    {
     "name": "stdout",
     "output_type": "stream",
     "text": [
      "Train acc: 0.901\n",
      "Test acc : 0.860\n"
     ]
    }
   ],
   "source": [
    "train_acc = accuracy_score(y_train, logreg.predict(X_train))\n",
    "test_acc  = accuracy_score(y_test, y_pred)\n",
    "\n",
    "print(f\"Train acc: {train_acc:.3f}\")\n",
    "print(f\"Test acc : {test_acc:.3f}\")\n"
   ]
  },
  {
   "cell_type": "markdown",
   "id": "5f41342b",
   "metadata": {},
   "source": [
    "Mục đích: đảm bảo pipeline logistic ở đây nhất quán với note trước"
   ]
  },
  {
   "cell_type": "code",
   "execution_count": 5,
   "id": "da56e14a",
   "metadata": {},
   "outputs": [
    {
     "name": "stdout",
     "output_type": "stream",
     "text": [
      "Số features: 21\n",
      "5 hệ số đầu: [-0.50073478  0.50103346 -0.34395424  0.34425292  0.12939979]\n"
     ]
    }
   ],
   "source": [
    "coef = logreg.coef_.ravel()\n",
    "print(\"Số features:\", len(coef))\n",
    "print(\"5 hệ số đầu:\", coef[:5])\n"
   ]
  },
  {
   "cell_type": "markdown",
   "id": "f484cc8e",
   "metadata": {},
   "source": [
    "Mục đích: minh bạch rằng bản teaching này KHÔNG lưu ra file .pkl"
   ]
  },
  {
   "cell_type": "code",
   "execution_count": 6,
   "id": "567b47e1",
   "metadata": {},
   "outputs": [
    {
     "name": "stdout",
     "output_type": "stream",
     "text": [
      "⚠️ Đây là bản training minh hoạ. Model KHÔNG được lưu ra .pkl.\n"
     ]
    }
   ],
   "source": [
    "print(\"⚠️ Đây là bản training minh hoạ. Model KHÔNG được lưu ra .pkl.\")\n"
   ]
  },
  {
   "cell_type": "code",
   "execution_count": null,
   "id": "2c31ba56",
   "metadata": {},
   "outputs": [],
   "source": []
  }
 ],
 "metadata": {
  "kernelspec": {
   "display_name": "Python (lr-env)",
   "language": "python",
   "name": "lr-env"
  },
  "language_info": {
   "codemirror_mode": {
    "name": "ipython",
    "version": 3
   },
   "file_extension": ".py",
   "mimetype": "text/x-python",
   "name": "python",
   "nbconvert_exporter": "python",
   "pygments_lexer": "ipython3",
   "version": "3.12.6"
  }
 },
 "nbformat": 4,
 "nbformat_minor": 5
}
