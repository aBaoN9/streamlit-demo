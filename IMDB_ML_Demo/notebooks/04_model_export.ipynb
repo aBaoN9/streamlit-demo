{
 "cells": [
  {
   "cell_type": "code",
   "execution_count": 1,
   "id": "1ff8baa8",
   "metadata": {},
   "outputs": [
    {
     "name": "stdout",
     "output_type": "stream",
     "text": [
      "DATA_RAW exists: True\n",
      "MODEL_DT exists: True\n",
      "MODEL_NB exists: True\n"
     ]
    }
   ],
   "source": [
    "# === PATH FIX & CONSTS ===\n",
    "import sys, os\n",
    "from pathlib import Path\n",
    "sys.path.append(os.path.abspath(os.path.join('..')))\n",
    "\n",
    "DATA_RAW = Path(\"../data/raw/IMBD.csv\")\n",
    "MODEL_DT = Path(\"../models/decision_tree_rating_regressor.pkl\")\n",
    "MODEL_NB = Path(\"../models/naive_bayes_genre_from_description.pkl\")\n",
    "\n",
    "print(\"DATA_RAW exists:\", DATA_RAW.exists())\n",
    "print(\"MODEL_DT exists:\", MODEL_DT.exists())\n",
    "print(\"MODEL_NB exists:\", MODEL_NB.exists())\n"
   ]
  },
  {
   "cell_type": "code",
   "execution_count": 2,
   "id": "b6266f85",
   "metadata": {},
   "outputs": [],
   "source": [
    "import joblib\n",
    "\n",
    "def load_model_or_hint(path: Path, train_hint: str):\n",
    "    if not path.exists():\n",
    "        raise FileNotFoundError(\n",
    "            f\"❌ Không tìm thấy model: {path}\\n\"\n",
    "            f\"👉 Hãy chạy {train_hint} trước (vd: `python -m src.train_tree` hoặc `python -m src.train_nb`).\"\n",
    "        )\n",
    "    return joblib.load(path)\n"
   ]
  },
  {
   "cell_type": "code",
   "execution_count": 3,
   "id": "847e12c4",
   "metadata": {},
   "outputs": [
    {
     "name": "stdout",
     "output_type": "stream",
     "text": [
      "⭐ Dự đoán rating cho sample: 6.75\n"
     ]
    }
   ],
   "source": [
    "import pandas as pd\n",
    "\n",
    "# Load model hoặc báo lỗi kèm hướng dẫn train\n",
    "dt = load_model_or_hint(MODEL_DT, \"notebook 02_train_decision_tree.ipynb hoặc src.train_tree\")\n",
    "\n",
    "# Tạo input mẫu ĐÚNG CỘT (khớp pipeline của bạn)\n",
    "# Các cột model cần: ['year_num','duration_min','votes_num','stars_count','desc_len','certificate','genre_primary']\n",
    "sample_dt = pd.DataFrame([{\n",
    "    \"year_num\": 2022,\n",
    "    \"duration_min\": 120,\n",
    "    \"votes_num\": 150000,\n",
    "    \"stars_count\": 3,\n",
    "    \"desc_len\": 28,\n",
    "    \"certificate\": \"PG-13\",\n",
    "    \"genre_primary\": \"Action\",\n",
    "}])\n",
    "\n",
    "pred_rating = dt.predict(sample_dt)[0]\n",
    "print(f\"⭐ Dự đoán rating cho sample: {pred_rating:.2f}\")\n"
   ]
  },
  {
   "cell_type": "code",
   "execution_count": 4,
   "id": "b3a46569",
   "metadata": {},
   "outputs": [
    {
     "name": "stdout",
     "output_type": "stream",
     "text": [
      "X_one: {'year_num': 2018.0, 'duration_min': 30.0, 'votes_num': 177031.0, 'stars_count': 7, 'desc_len': 21, 'certificate': 'TV-14', 'genre_primary': 'Action'}\n",
      "Pred (from real row): 8.23125\n"
     ]
    }
   ],
   "source": [
    "# (Tuỳ chọn) Lấy 1 hàng thật từ CSV rồi biến thành X đúng cột\n",
    "from src.features import parse_year, parse_duration, clean_votes, count_stars, desc_len, primary_genre\n",
    "\n",
    "df_raw = pd.read_csv(DATA_RAW, low_memory=False).copy()\n",
    "df_raw[\"year_num\"]      = df_raw[\"year\"].map(parse_year)\n",
    "df_raw[\"duration_min\"]  = df_raw[\"duration\"].map(parse_duration)\n",
    "df_raw[\"votes_num\"]     = df_raw[\"votes\"].map(clean_votes)\n",
    "df_raw[\"stars_count\"]   = df_raw[\"stars\"].map(count_stars)\n",
    "df_raw[\"desc_len\"]      = df_raw[\"description\"].map(desc_len)\n",
    "df_raw[\"genre_primary\"] = df_raw[\"genre\"].map(primary_genre)\n",
    "\n",
    "need_cols = [\"year_num\",\"duration_min\",\"votes_num\",\"stars_count\",\"desc_len\",\"certificate\",\"genre_primary\"]\n",
    "row = df_raw.dropna(subset=need_cols).iloc[0]  # chọn 1 bản ghi đủ cột\n",
    "X_one = pd.DataFrame([row[need_cols].to_dict()])\n",
    "print(\"X_one:\", X_one.to_dict(orient=\"records\")[0])\n",
    "print(\"Pred (from real row):\", float(dt.predict(X_one)[0]))\n"
   ]
  },
  {
   "cell_type": "code",
   "execution_count": 5,
   "id": "681bb830",
   "metadata": {},
   "outputs": [
    {
     "name": "stdout",
     "output_type": "stream",
     "text": [
      "—\n",
      "Text: A retired hitman embarks on a high-octane revenge mission across the city.\n",
      "Predicted genre: Action\n",
      "—\n",
      "Text: A heartfelt family story about growing up and finding your true self.\n",
      "Predicted genre: Comedy\n"
     ]
    }
   ],
   "source": [
    "import pandas as pd\n",
    "\n",
    "nb = load_model_or_hint(MODEL_NB, \"notebook 03_train_naive_bayes.ipynb hoặc src.train_nb\")\n",
    "\n",
    "# Nhập text mẫu để phân loại\n",
    "texts = pd.Series([\n",
    "    \"A retired hitman embarks on a high-octane revenge mission across the city.\",\n",
    "    \"A heartfelt family story about growing up and finding your true self.\",\n",
    "])\n",
    "\n",
    "pred_labels = nb.predict(texts)\n",
    "for t, y in zip(texts.tolist(), pred_labels.tolist()):\n",
    "    print(\"—\")\n",
    "    print(\"Text:\", t)\n",
    "    print(\"Predicted genre:\", y)\n"
   ]
  },
  {
   "cell_type": "code",
   "execution_count": 6,
   "id": "4776b9a2",
   "metadata": {},
   "outputs": [
    {
     "name": "stdout",
     "output_type": "stream",
     "text": [
      "Predict on first 5 descriptions:\n",
      "['Action' 'Drama' 'Comedy' 'Drama' 'Animation']\n"
     ]
    }
   ],
   "source": [
    "import pandas as pd\n",
    "df_raw = pd.read_csv(DATA_RAW, low_memory=False)\n",
    "texts_real = df_raw[\"description\"].dropna().astype(str).head(5)\n",
    "print(\"Predict on first 5 descriptions:\")\n",
    "print(nb.predict(texts_real))\n"
   ]
  },
  {
   "cell_type": "code",
   "execution_count": 7,
   "id": "3bd1b049",
   "metadata": {},
   "outputs": [
    {
     "name": "stdout",
     "output_type": "stream",
     "text": [
      "Saved: ..\\data\\processed\\note04_nb_predictions_sample.csv\n"
     ]
    }
   ],
   "source": [
    "import pandas as pd\n",
    "out = pd.DataFrame({\n",
    "    \"sample_text\": texts,\n",
    "    \"pred_genre\": pred_labels\n",
    "})\n",
    "out_path = Path(\"../data/processed/note04_nb_predictions_sample.csv\")\n",
    "out.to_csv(out_path, index=False, encoding=\"utf-8\")\n",
    "print(\"Saved:\", out_path)\n"
   ]
  },
  {
   "cell_type": "code",
   "execution_count": null,
   "id": "85534345",
   "metadata": {},
   "outputs": [],
   "source": []
  }
 ],
 "metadata": {
  "kernelspec": {
   "display_name": "Python 3",
   "language": "python",
   "name": "python3"
  },
  "language_info": {
   "codemirror_mode": {
    "name": "ipython",
    "version": 3
   },
   "file_extension": ".py",
   "mimetype": "text/x-python",
   "name": "python",
   "nbconvert_exporter": "python",
   "pygments_lexer": "ipython3",
   "version": "3.12.6"
  }
 },
 "nbformat": 4,
 "nbformat_minor": 5
}
